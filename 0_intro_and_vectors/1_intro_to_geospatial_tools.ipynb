{
 "cells": [
  {
   "cell_type": "markdown",
   "id": "651b288c-7283-48a5-add7-a0be2d2e1c85",
   "metadata": {},
   "source": [
    "# 1: Intro to Geospatial tools\n",
    "\n",
    "This script introduces how to:\n",
    "- use Geopandas to read\n",
    "- write shapefiles\n",
    "- visualize basic GIS vectors\n",
    "- add interactive basemap visuals for context"
   ]
  },
  {
   "cell_type": "code",
   "execution_count": null,
   "id": "2bc6ddd7-6f3b-452b-bcf8-cc605293f180",
   "metadata": {},
   "outputs": [],
   "source": [
    "# Base libs\n",
    "import os\n",
    "import glob \n",
    "import shutil\n",
    "\n",
    "# Geospatial libs\n",
    "import geopandas as gpd\n",
    "import folium\n",
    "\n",
    "# other libs\n",
    "import matplotlib.pyplot as plt\n",
    "%matplotlib inline"
   ]
  },
  {
   "cell_type": "markdown",
   "id": "ab7a2388-7561-4d0d-a92d-aae8f053f8e2",
   "metadata": {},
   "source": [
    "# 0. Use Geopandas to read files"
   ]
  },
  {
   "cell_type": "markdown",
   "id": "26b77a31-4db4-4098-8621-61db16793cf6",
   "metadata": {},
   "source": [
    "Geopandas (gpd) treats spatial data like a data frame (rows x columns) but with a unique structure so they operate very similarly to a pandas dataframe. A gpd geodataframe contains a geometry column specifying a tuple/coordinate. A tuple is a common python data type where multiple values are linked. Comparatively a two-item list is unlinked, i.e. each object in the list can be changed, inserted, or deleted while the tuple cannot be modified in the same way. In the geo-df the tuples define vertices for points, lines, polygons, etc. \n",
    "\n",
    "Geospatial vector data are handled by the library shapely, evene in gpd."
   ]
  },
  {
   "cell_type": "code",
   "execution_count": null,
   "id": "7c38db77-d1f0-45d1-8335-cc4ce066c665",
   "metadata": {},
   "outputs": [],
   "source": [
    "# check where we are \n",
    "%pwd"
   ]
  },
  {
   "cell_type": "code",
   "execution_count": null,
   "id": "b1f487ec-9e64-423f-b376-fdc93e16e923",
   "metadata": {},
   "outputs": [],
   "source": [
    "# I like using glob for pathnames but os provides similar functionality, it can handle relative paths with more ease\n",
    "shp_files = glob.glob('./data/shapefiles/*')\n",
    "\n",
    "# use print to display multiple outputs in each cell \n",
    "print(shp_files)\n",
    "\n",
    "# unlike R, python does not need 'paste' to combine multiple vars in a single print statement\n",
    "# + and , behave slightly different in print statements. Particularly important joining file paths\n",
    "print('\\n' + 'The Sonoma .shp file:', shp_files[5]) "
   ]
  },
  {
   "cell_type": "code",
   "execution_count": null,
   "id": "749a098a-dd06-4dfc-8e94-0c62ad973b6e",
   "metadata": {},
   "outputs": [],
   "source": [
    "# read a shapefile using the .shp extension\n",
    "temp_sp = gpd.read_file(shp_files[5])\n",
    "type(temp_sp)"
   ]
  },
  {
   "cell_type": "markdown",
   "id": "6986dcb4-db69-41f8-8b5c-2e50c280672b",
   "metadata": {},
   "source": [
    "Exploring a geospatial DF struct"
   ]
  },
  {
   "cell_type": "code",
   "execution_count": null,
   "id": "3e953d91-905a-446d-8cdd-9beb4cc2debe",
   "metadata": {},
   "outputs": [],
   "source": [
    "# df.head() is a common pandas tool to see the first 5 rows of a df\n",
    "# in our case this object has only one row with a polygon object\n",
    "temp_sp.head()"
   ]
  },
  {
   "cell_type": "code",
   "execution_count": null,
   "id": "0ff76a04-be53-4c31-92ec-717620406df9",
   "metadata": {},
   "outputs": [],
   "source": [
    "# remember python is 0 indexed so our first row, above, is row 0 and the df is length == 1\n",
    "print(len(temp_sp))"
   ]
  },
  {
   "cell_type": "code",
   "execution_count": null,
   "id": "17a7841a-9612-44d7-9b7e-7e62ae38c48d",
   "metadata": {},
   "outputs": [],
   "source": [
    "# subset our df\n",
    "sonoma = temp_sp[['NAME','AREA_','geometry']]\n",
    "sonoma"
   ]
  },
  {
   "cell_type": "code",
   "execution_count": null,
   "id": "1ba26a5b-b64e-4711-86e2-e55b6d728971",
   "metadata": {},
   "outputs": [],
   "source": [
    "# visualize the geo-df\n",
    "sonoma.plot()"
   ]
  },
  {
   "cell_type": "markdown",
   "id": "53e35ac0-28f4-4ceb-97d1-023206688d5a",
   "metadata": {},
   "source": [
    "# 1. Checking projections"
   ]
  },
  {
   "cell_type": "markdown",
   "id": "d7142f18-965b-4dbb-95af-b00ae39f23be",
   "metadata": {},
   "source": [
    "First, checking projections and coordinate reference systems (CRS).\n",
    "- CRSs locate our objects on earth \n",
    "- Geographic CRSs place objects in a coordinate plane and not a plot with a 0,0 origin. Commonly lat/long.\n",
    "- Projections (projected CRS) transforms lat/long into a planer surface meaning our 3D corrdinates are represented on a 2D plane and have discrete local regions to minimize distortions. Commonly meters.\n",
    "- In python we will use gpd and pyproj (a dependency of gpd) to project data"
   ]
  },
  {
   "cell_type": "code",
   "execution_count": null,
   "id": "c59b9740-3746-42b7-a5d2-a71da819630c",
   "metadata": {},
   "outputs": [],
   "source": [
    "# What are these coordinate values representing?\n",
    "water_shed = gpd.read_file('./data/shapefiles/HYD_WTRSHD_HUC.shp')\n",
    "water_shed.head()"
   ]
  },
  {
   "cell_type": "code",
   "execution_count": null,
   "id": "2d100a73-b1ab-43b5-ab4d-b817ab6096c3",
   "metadata": {},
   "outputs": [],
   "source": [
    "# Let's use our russian river subset\n",
    "# check our current projection\n",
    "water_shed.crs"
   ]
  },
  {
   "cell_type": "markdown",
   "id": "0f3d3660-bd11-4adf-aed7-ad079a3564a7",
   "metadata": {},
   "source": [
    "From our CRS we can see an EPSG (European Petroleum Survey Group) code is [4326](https://epsg.io/4326) meaning it uses the WGS84 coordinate system in Lat/Long.\n",
    "\n",
    "For demonstration, let's reproject to EPSG:26910 or NAD83 UTM zone 10N"
   ]
  },
  {
   "cell_type": "code",
   "execution_count": null,
   "id": "bee00df0-621f-4091-84af-e220caede473",
   "metadata": {},
   "outputs": [],
   "source": [
    "reproj = water_shed.to_crs(epsg = 26910)\n",
    "reproj.plot()"
   ]
  },
  {
   "cell_type": "markdown",
   "id": "9fe153c7-c38d-4774-b1c7-653b0c7c559b",
   "metadata": {},
   "source": [
    "Notice that the coordinate system has now changed to meters from Lat/Long"
   ]
  },
  {
   "cell_type": "code",
   "execution_count": null,
   "id": "79877d26-d4bf-4fad-9d2e-9f3d5cabca10",
   "metadata": {},
   "outputs": [],
   "source": [
    "reproj2 = water_shed.to_crs(epsg = 32618)\n",
    "reproj2.plot()"
   ]
  },
  {
   "cell_type": "markdown",
   "id": "6f659b70-6575-4739-844e-e7b0d63a8cb7",
   "metadata": {},
   "source": [
    "It can be pretty easy to see when your projection is wrong! A big reason to save your reprojected data to a new variable. If you want to reproject again you may begin to run into issues with conistency. It is best to only project once and be aware if your data is projected to begin with. "
   ]
  },
  {
   "cell_type": "markdown",
   "id": "ac6f0821-4ba1-49d5-943e-cf8522993261",
   "metadata": {},
   "source": [
    "# 2. Manipulate spatial data\n",
    "### Let's explore another geospatial data type - multi polygon"
   ]
  },
  {
   "cell_type": "code",
   "execution_count": null,
   "id": "27c05074-c914-41ee-9408-0bae36abb5f0",
   "metadata": {},
   "outputs": [],
   "source": [
    "water_shed.head()"
   ]
  },
  {
   "cell_type": "code",
   "execution_count": null,
   "id": "ed235dac-0337-4855-a798-628d1af2efb2",
   "metadata": {},
   "outputs": [],
   "source": [
    "# commas allow print statements to concatenate different datatypes\n",
    "print('Number of points:', len(water_shed))\n",
    "print('How many different HUC types:', water_shed['Name'].unique())"
   ]
  },
  {
   "cell_type": "code",
   "execution_count": null,
   "id": "f6b08887-6462-4238-82fa-96d38a7c576a",
   "metadata": {},
   "outputs": [],
   "source": [
    "# subset to only Russian river watersheds\n",
    "russian_river = water_shed[water_shed['Name'].str.contains('Russian', na = False)]\n",
    "russian_river['Name'].unique()"
   ]
  },
  {
   "cell_type": "code",
   "execution_count": null,
   "id": "f8969aa2-6b79-489d-bb49-1dcd23bb481e",
   "metadata": {},
   "outputs": [],
   "source": [
    "russian_river.plot()"
   ]
  },
  {
   "cell_type": "markdown",
   "id": "42c99ddd-b4fb-418f-ae73-afee19d45939",
   "metadata": {},
   "source": [
    "### Point and polygon intersection"
   ]
  },
  {
   "cell_type": "code",
   "execution_count": null,
   "id": "3ac12470-9379-4c8a-bcbc-2307619fd8da",
   "metadata": {},
   "outputs": [],
   "source": [
    "pts = gpd.read_file('./data/shapefiles/PWD_MetStations2021.shp')\n",
    "pts.head()"
   ]
  },
  {
   "cell_type": "code",
   "execution_count": null,
   "id": "d81087cd-509b-4caf-b0c6-1241533b3a38",
   "metadata": {},
   "outputs": [],
   "source": [
    "pts.plot()"
   ]
  },
  {
   "cell_type": "code",
   "execution_count": null,
   "id": "f479382e-cfdf-4d30-a62a-99e38b741a87",
   "metadata": {},
   "outputs": [],
   "source": [
    "pts.crs"
   ]
  },
  {
   "cell_type": "code",
   "execution_count": null,
   "id": "49f98bd4-9fdc-4f5d-ab49-c274af4a929b",
   "metadata": {},
   "outputs": [],
   "source": [
    "# Check if our projections are the same!\n",
    "pts.crs == sonoma.crs"
   ]
  },
  {
   "cell_type": "code",
   "execution_count": null,
   "id": "bcd2aec4-22d1-48ca-946d-95ce518c5121",
   "metadata": {},
   "outputs": [],
   "source": [
    "# reproject sonoma to match gps points\n",
    "proj = sonoma.to_crs(epsg = 32610)\n",
    "pts.crs == proj.crs"
   ]
  },
  {
   "cell_type": "code",
   "execution_count": null,
   "id": "ef5880fa-afb6-41ab-a42a-6e5286eca760",
   "metadata": {},
   "outputs": [],
   "source": [
    "proj.contains(pts.iloc[[0]])"
   ]
  },
  {
   "cell_type": "markdown",
   "id": "e4aab195-7f61-4e7f-a325-f9db1c5102b4",
   "metadata": {},
   "source": [
    "# 3. Saving geopandas objects"
   ]
  },
  {
   "cell_type": "markdown",
   "id": "dd98a252-2f5f-4afc-a3b4-440169e8f8ea",
   "metadata": {},
   "source": [
    "Save out subselection of the Russian River drainages to a new shapefile"
   ]
  },
  {
   "cell_type": "code",
   "execution_count": null,
   "id": "bd88a94a-5f1e-4fc1-ba07-7c695aac22fe",
   "metadata": {},
   "outputs": [],
   "source": [
    "out_dir = './results'\n",
    "\n",
    "# specify an out file\n",
    "out_file = os.path.join(out_dir, \"Class_36200.shp\")\n",
    "russian_river.to_file(out_file)"
   ]
  },
  {
   "cell_type": "code",
   "execution_count": null,
   "id": "c8719ae6-cf1f-45d5-90de-356f8f96b994",
   "metadata": {},
   "outputs": [],
   "source": [
    "# read in our selection to check it\n",
    "temp = gpd.read_file(out_file)\n",
    "temp.plot()"
   ]
  },
  {
   "cell_type": "code",
   "execution_count": null,
   "id": "8be06602-2be4-42d8-a968-a5bc592d3bab",
   "metadata": {},
   "outputs": [],
   "source": [
    "# clean up what we created\n",
    "folder = './results/*'\n",
    "files = glob.glob(folder)\n",
    "print(files)\n",
    "for f in files:  \n",
    "    os.remove(f)"
   ]
  },
  {
   "cell_type": "code",
   "execution_count": null,
   "id": "cb0978d2-56b0-40f0-86f4-cb8fd5082ff1",
   "metadata": {},
   "outputs": [],
   "source": [
    "glob.glob(folder)"
   ]
  },
  {
   "cell_type": "markdown",
   "id": "1f53e804-1904-438d-9a7e-fc7b070e19d2",
   "metadata": {},
   "source": [
    "# 4. Basic visualization of geospatial data"
   ]
  },
  {
   "cell_type": "code",
   "execution_count": null,
   "id": "f5bea102-3a48-4b22-986f-264139f74c06",
   "metadata": {},
   "outputs": [],
   "source": [
    "# Make subplots that are next to each other\n",
    "fig, (ax1, ax2) = plt.subplots(nrows=1, ncols=2, figsize=(12, 12))\n",
    "\n",
    "# Plot the original CRS\n",
    "russian_river.plot(ax=ax1, facecolor='gray')\n",
    "\n",
    "# Add title\n",
    "ax1.set_title(\"WGS84\")\n",
    "\n",
    "# Plot the one with the incorrect projection\n",
    "reproj2.plot(ax=ax2, facecolor='blue')\n",
    "\n",
    "# Add title\n",
    "ax2.set_title(\"Incorrect projections\")\n",
    "\n",
    "# Set aspect ratio as 1\n",
    "ax1.set_aspect(aspect=1)\n",
    "ax2.set_aspect(aspect=1)\n",
    "\n",
    "# Remove empty white space around the plot\n",
    "plt.tight_layout()"
   ]
  },
  {
   "cell_type": "markdown",
   "id": "193caf8a-2c44-423f-848f-8a664875d87b",
   "metadata": {},
   "source": [
    "# 5. Adding basemaps for visualization and context"
   ]
  },
  {
   "cell_type": "markdown",
   "id": "41c4047d-18d4-4b15-8394-be9a4b871f4d",
   "metadata": {},
   "source": [
    "Folium by default uses OpenStreetMap but also can pull down Stamen Terrain and Stamen Toner. Markers can be added using [bootstrap](https://getbootstrap.com/docs/3.3/components/)"
   ]
  },
  {
   "cell_type": "code",
   "execution_count": null,
   "id": "5dbe57f6-190b-4282-82d8-5a5e3862bfe3",
   "metadata": {
    "tags": []
   },
   "outputs": [],
   "source": [
    "# Show set zoom for Flagstaff OpenStreetMaps\n",
    "m = folium.Map(location=[35.1983, -111.6513], zoom_start=14)\n",
    "\n",
    "# Add markers to LOIs\n",
    "folium.Marker([35.18619596476278, -111.65855717457414], \n",
    "              popup=\"<i>SICCS</i>\", \n",
    "              tooltip = \"Where am I?\",\n",
    "              icon=folium.Icon(color=\"red\", icon=\"glyphicon-thumbs-up\")\n",
    "             ).add_to(m)\n",
    "\n",
    "# display map\n",
    "m"
   ]
  },
  {
   "cell_type": "markdown",
   "id": "32745c23-03ef-4cc7-b5be-2a7c22665bf3",
   "metadata": {},
   "source": [
    "Sometimes it can be helpful to dipslay coords to recenter a map:"
   ]
  },
  {
   "cell_type": "code",
   "execution_count": null,
   "id": "cd7a1776-b665-49db-8032-95210619bd4e",
   "metadata": {
    "tags": []
   },
   "outputs": [],
   "source": [
    "m = folium.Map(location=[35.1983, -111.6513], zoom_start=11, tiles = 'Stamen Terrain')\n",
    "m.add_child(folium.LatLngPopup())\n",
    "m"
   ]
  }
 ],
 "metadata": {
  "kernelspec": {
   "display_name": "Python [conda env:py38-gis] *",
   "language": "python",
   "name": "conda-env-py38-gis-py"
  },
  "language_info": {
   "codemirror_mode": {
    "name": "ipython",
    "version": 3
   },
   "file_extension": ".py",
   "mimetype": "text/x-python",
   "name": "python",
   "nbconvert_exporter": "python",
   "pygments_lexer": "ipython3",
   "version": "3.8.12"
  }
 },
 "nbformat": 4,
 "nbformat_minor": 5
}
