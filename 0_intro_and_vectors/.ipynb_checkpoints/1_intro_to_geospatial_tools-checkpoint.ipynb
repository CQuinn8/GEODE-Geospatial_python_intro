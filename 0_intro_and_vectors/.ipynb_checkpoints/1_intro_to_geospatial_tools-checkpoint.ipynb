{
 "cells": [
  {
   "cell_type": "markdown",
   "id": "651b288c-7283-48a5-add7-a0be2d2e1c85",
   "metadata": {},
   "source": [
    "# 1: Intro to Geospatial tools\n",
    "\n",
    "This script introduces how to:\n",
    "- use Geopandas to read\n",
    "- write shapefiles\n",
    "- visualize basic GIS vectors\n",
    "- add interactive basemap visuals for context"
   ]
  },
  {
   "cell_type": "code",
   "execution_count": 1,
   "id": "2bc6ddd7-6f3b-452b-bcf8-cc605293f180",
   "metadata": {},
   "outputs": [],
   "source": [
    "# Base libs\n",
    "import os\n",
    "import glob \n",
    "import shutil\n",
    "\n",
    "# Geospatial libs\n",
    "import geopandas as gpd\n",
    "import folium\n",
    "\n",
    "# other libs\n",
    "import matplotlib.pyplot as plt\n",
    "%matplotlib inline"
   ]
  },
  {
   "cell_type": "markdown",
   "id": "ab7a2388-7561-4d0d-a92d-aae8f053f8e2",
   "metadata": {},
   "source": [
    "# 0. Use Geopandas to read files"
   ]
  },
  {
   "cell_type": "markdown",
   "id": "26b77a31-4db4-4098-8621-61db16793cf6",
   "metadata": {},
   "source": [
    "Geopandas (gpd) treats spatial data like a data frame (rows x columns) but with a unique structure so they operate very similarly to a pandas dataframe. A gpd geodataframe contains a geometry column specifying a tuple/coordinate. A tuple is a common python data type where multiple values are linked. Comparatively a two-item list is unlinked, i.e. each object in the list can be changed, inserted, or deleted while the tuple cannot be modified in the same way. In the geo-df the tuples define vertices for points, lines, polygons, etc. \n",
    "\n",
    "Geospatial vector data are handled by the library shapely, evene in gpd."
   ]
  },
  {
   "cell_type": "code",
   "execution_count": 2,
   "id": "7c38db77-d1f0-45d1-8335-cc4ce066c665",
   "metadata": {},
   "outputs": [
    {
     "data": {
      "text/plain": [
       "'G:\\\\My Drive\\\\NAU\\\\General\\\\GEODE-Geospatial_python_intro\\\\0_intro_and_vectors'"
      ]
     },
     "execution_count": 2,
     "metadata": {},
     "output_type": "execute_result"
    }
   ],
   "source": [
    "# check where we are \n",
    "%pwd"
   ]
  },
  {
   "cell_type": "code",
   "execution_count": 3,
   "id": "b1f487ec-9e64-423f-b376-fdc93e16e923",
   "metadata": {},
   "outputs": [
    {
     "name": "stdout",
     "output_type": "stream",
     "text": [
      "['./data/shapefiles\\\\sonoma_county_projected.cpg', './data/shapefiles\\\\sonoma_county_projected.dbf', './data/shapefiles\\\\sonoma_county_projected.prj', './data/shapefiles\\\\sonoma_county_projected.sbn', './data/shapefiles\\\\sonoma_county_projected.sbx', './data/shapefiles\\\\sonoma_county_projected.shp', './data/shapefiles\\\\sonoma_county_projected.shp.xml', './data/shapefiles\\\\sonoma_county_projected.shx', './data/shapefiles\\\\PWD_MetStations2021.cpg', './data/shapefiles\\\\PWD_MetStations2021.dbf', './data/shapefiles\\\\PWD_MetStations2021.prj', './data/shapefiles\\\\PWD_MetStations2021.sbn', './data/shapefiles\\\\PWD_MetStations2021.sbx', './data/shapefiles\\\\PWD_MetStations2021.shp', './data/shapefiles\\\\PWD_MetStations2021.shp.xml', './data/shapefiles\\\\PWD_MetStations2021.shx', './data/shapefiles\\\\HYD_WTRSHD_HUC.shp', './data/shapefiles\\\\HYD_WTRSHD_HUC.shx', './data/shapefiles\\\\HYD_WTRSHD_HUC.dbf', './data/shapefiles\\\\HYD_WTRSHD_HUC.cpg', './data/shapefiles\\\\HYD_WTRSHD_HUC.prj', './data/shapefiles\\\\states']\n",
      "\n",
      "The Sonoma .shp file: ./data/shapefiles\\sonoma_county_projected.shp\n"
     ]
    }
   ],
   "source": [
    "# I like using glob for pathnames but os provides similar functionality, it can handle relative paths with more ease\n",
    "shp_files = glob.glob('./data/shapefiles/*')\n",
    "\n",
    "# use print to display multiple outputs in each cell \n",
    "print(shp_files)\n",
    "\n",
    "# unlike R, python does not need 'paste' to combine multiple vars in a single print statement\n",
    "# + and , behave slightly different in print statements. Particularly important joining file paths\n",
    "print('\\n' + 'The Sonoma .shp file:', shp_files[5]) "
   ]
  },
  {
   "cell_type": "code",
   "execution_count": 5,
   "id": "749a098a-dd06-4dfc-8e94-0c62ad973b6e",
   "metadata": {},
   "outputs": [
    {
     "data": {
      "text/plain": [
       "geopandas.geodataframe.GeoDataFrame"
      ]
     },
     "execution_count": 5,
     "metadata": {},
     "output_type": "execute_result"
    }
   ],
   "source": [
    "# read a shapefile using the .shp extension\n",
    "temp_sp = gpd.read_file(shp_files[5])\n",
    "type(temp_sp)"
   ]
  },
  {
   "cell_type": "markdown",
   "id": "6986dcb4-db69-41f8-8b5c-2e50c280672b",
   "metadata": {},
   "source": [
    "Exploring a geospatial DF struct"
   ]
  },
  {
   "cell_type": "code",
   "execution_count": 6,
   "id": "3e953d91-905a-446d-8cdd-9beb4cc2debe",
   "metadata": {},
   "outputs": [
    {
     "data": {
      "text/html": [
       "<div>\n",
       "<style scoped>\n",
       "    .dataframe tbody tr th:only-of-type {\n",
       "        vertical-align: middle;\n",
       "    }\n",
       "\n",
       "    .dataframe tbody tr th {\n",
       "        vertical-align: top;\n",
       "    }\n",
       "\n",
       "    .dataframe thead th {\n",
       "        text-align: right;\n",
       "    }\n",
       "</style>\n",
       "<table border=\"1\" class=\"dataframe\">\n",
       "  <thead>\n",
       "    <tr style=\"text-align: right;\">\n",
       "      <th></th>\n",
       "      <th>NAME</th>\n",
       "      <th>AREA_</th>\n",
       "      <th>ACREAGE</th>\n",
       "      <th>SQ_MILE</th>\n",
       "      <th>geometry</th>\n",
       "    </tr>\n",
       "  </thead>\n",
       "  <tbody>\n",
       "    <tr>\n",
       "      <th>0</th>\n",
       "      <td>County of Sonoma</td>\n",
       "      <td>4.423343e+10</td>\n",
       "      <td>1.015460e+06</td>\n",
       "      <td>1586.655864</td>\n",
       "      <td>POLYGON ((-871185.356 9442266.142, -871076.128...</td>\n",
       "    </tr>\n",
       "  </tbody>\n",
       "</table>\n",
       "</div>"
      ],
      "text/plain": [
       "               NAME         AREA_       ACREAGE      SQ_MILE  \\\n",
       "0  County of Sonoma  4.423343e+10  1.015460e+06  1586.655864   \n",
       "\n",
       "                                            geometry  \n",
       "0  POLYGON ((-871185.356 9442266.142, -871076.128...  "
      ]
     },
     "execution_count": 6,
     "metadata": {},
     "output_type": "execute_result"
    }
   ],
   "source": [
    "# df.head() is a common pandas tool to see the first 5 rows of a df\n",
    "# in our case this object has only one row with a polygon object\n",
    "temp_sp.head()"
   ]
  },
  {
   "cell_type": "code",
   "execution_count": 7,
   "id": "0ff76a04-be53-4c31-92ec-717620406df9",
   "metadata": {},
   "outputs": [
    {
     "name": "stdout",
     "output_type": "stream",
     "text": [
      "1\n"
     ]
    }
   ],
   "source": [
    "# remember python is 0 indexed so our first row, above, is row 0 and the df is length == 1\n",
    "print(len(temp_sp))"
   ]
  },
  {
   "cell_type": "code",
   "execution_count": 8,
   "id": "17a7841a-9612-44d7-9b7e-7e62ae38c48d",
   "metadata": {},
   "outputs": [
    {
     "data": {
      "text/html": [
       "<div>\n",
       "<style scoped>\n",
       "    .dataframe tbody tr th:only-of-type {\n",
       "        vertical-align: middle;\n",
       "    }\n",
       "\n",
       "    .dataframe tbody tr th {\n",
       "        vertical-align: top;\n",
       "    }\n",
       "\n",
       "    .dataframe thead th {\n",
       "        text-align: right;\n",
       "    }\n",
       "</style>\n",
       "<table border=\"1\" class=\"dataframe\">\n",
       "  <thead>\n",
       "    <tr style=\"text-align: right;\">\n",
       "      <th></th>\n",
       "      <th>NAME</th>\n",
       "      <th>AREA_</th>\n",
       "      <th>geometry</th>\n",
       "    </tr>\n",
       "  </thead>\n",
       "  <tbody>\n",
       "    <tr>\n",
       "      <th>0</th>\n",
       "      <td>County of Sonoma</td>\n",
       "      <td>4.423343e+10</td>\n",
       "      <td>POLYGON ((-871185.356 9442266.142, -871076.128...</td>\n",
       "    </tr>\n",
       "  </tbody>\n",
       "</table>\n",
       "</div>"
      ],
      "text/plain": [
       "               NAME         AREA_  \\\n",
       "0  County of Sonoma  4.423343e+10   \n",
       "\n",
       "                                            geometry  \n",
       "0  POLYGON ((-871185.356 9442266.142, -871076.128...  "
      ]
     },
     "execution_count": 8,
     "metadata": {},
     "output_type": "execute_result"
    }
   ],
   "source": [
    "# subset our df\n",
    "sonoma = temp_sp[['NAME','AREA_','geometry']]\n",
    "sonoma"
   ]
  },
  {
   "cell_type": "code",
   "execution_count": 9,
   "id": "1ba26a5b-b64e-4711-86e2-e55b6d728971",
   "metadata": {},
   "outputs": [
    {
     "data": {
      "text/plain": [
       "<AxesSubplot:>"
      ]
     },
     "execution_count": 9,
     "metadata": {},
     "output_type": "execute_result"
    },
    {
     "data": {
      "image/png": "[encoded data removed]",
      "text/plain": [
       "<Figure size 432x288 with 1 Axes>"
      ]
     },
     "metadata": {
      "needs_background": "light"
     },
     "output_type": "display_data"
    }
   ],
   "source": [
    "# visualize the geo-df\n",
    "sonoma.plot()"
   ]
  },
  {
   "cell_type": "markdown",
   "id": "53e35ac0-28f4-4ceb-97d1-023206688d5a",
   "metadata": {},
   "source": [
    "# 1. Checking projections"
   ]
  },
  {
   "cell_type": "markdown",
   "id": "d7142f18-965b-4dbb-95af-b00ae39f23be",
   "metadata": {},
   "source": [
    "First, checking projections and coordinate reference systems (CRS).\n",
    "- CRSs locate our objects on earth \n",
    "- Geographic CRSs place objects in a coordinate plane and not a plot with a 0,0 origin. Commonly lat/long.\n",
    "- Projections (projected CRS) transforms lat/long into a planer surface meaning our 3D corrdinates are represented on a 2D plane and have discrete local regions to minimize distortions. Commonly meters.\n",
    "- In python we will use gpd and pyproj (a dependency of gpd) to project data"
   ]
  },
  {
   "cell_type": "code",
   "execution_count": 27,
   "id": "c59b9740-3746-42b7-a5d2-a71da819630c",
   "metadata": {},
   "outputs": [
    {
     "data": {
      "text/html": [
       "<div>\n",
       "<style scoped>\n",
       "    .dataframe tbody tr th:only-of-type {\n",
       "        vertical-align: middle;\n",
       "    }\n",
       "\n",
       "    .dataframe tbody tr th {\n",
       "        vertical-align: top;\n",
       "    }\n",
       "\n",
       "    .dataframe thead th {\n",
       "        text-align: right;\n",
       "    }\n",
       "</style>\n",
       "<table border=\"1\" class=\"dataframe\">\n",
       "  <thead>\n",
       "    <tr style=\"text-align: right;\">\n",
       "      <th></th>\n",
       "      <th>OBJECTID</th>\n",
       "      <th>TNMID</th>\n",
       "      <th>MetaSource</th>\n",
       "      <th>SourceData</th>\n",
       "      <th>SourceOrig</th>\n",
       "      <th>SourceFeat</th>\n",
       "      <th>LoadDate</th>\n",
       "      <th>GNIS_ID</th>\n",
       "      <th>AreaAcres</th>\n",
       "      <th>AreaSqKm</th>\n",
       "      <th>...</th>\n",
       "      <th>HUC_CODE</th>\n",
       "      <th>Name</th>\n",
       "      <th>HUType</th>\n",
       "      <th>HUMod</th>\n",
       "      <th>ToHUC</th>\n",
       "      <th>NonContrib</th>\n",
       "      <th>HUC</th>\n",
       "      <th>SHAPE_Leng</th>\n",
       "      <th>SHAPE_Area</th>\n",
       "      <th>geometry</th>\n",
       "    </tr>\n",
       "  </thead>\n",
       "  <tbody>\n",
       "    <tr>\n",
       "      <th>0</th>\n",
       "      <td>1</td>\n",
       "      <td>{D924BD6E-507C-4E5B-A86C-DDDDE00752A5}</td>\n",
       "      <td>&lt;Null&gt;</td>\n",
       "      <td>&lt;Null&gt;</td>\n",
       "      <td>&lt;Null&gt;</td>\n",
       "      <td>&lt;Null&gt;</td>\n",
       "      <td>2012-06-11</td>\n",
       "      <td>0.0</td>\n",
       "      <td>3.398405e+03</td>\n",
       "      <td>13.752857</td>\n",
       "      <td>...</td>\n",
       "      <td>18</td>\n",
       "      <td>California Region</td>\n",
       "      <td>None</td>\n",
       "      <td>None</td>\n",
       "      <td>None</td>\n",
       "      <td>None</td>\n",
       "      <td>2</td>\n",
       "      <td>0.185588</td>\n",
       "      <td>0.001435</td>\n",
       "      <td>POLYGON ((-123.14819 39.23879, -123.14811 39.2...</td>\n",
       "    </tr>\n",
       "    <tr>\n",
       "      <th>1</th>\n",
       "      <td>2</td>\n",
       "      <td>{D924BD6E-507C-4E5B-A86C-DDDDE00752A5}</td>\n",
       "      <td>&lt;Null&gt;</td>\n",
       "      <td>None</td>\n",
       "      <td>None</td>\n",
       "      <td>None</td>\n",
       "      <td>2012-06-11</td>\n",
       "      <td>0.0</td>\n",
       "      <td>1.061730e+06</td>\n",
       "      <td>4296.669849</td>\n",
       "      <td>...</td>\n",
       "      <td>18</td>\n",
       "      <td>California Region</td>\n",
       "      <td>None</td>\n",
       "      <td>None</td>\n",
       "      <td>None</td>\n",
       "      <td>None</td>\n",
       "      <td>2</td>\n",
       "      <td>4.358207</td>\n",
       "      <td>0.443967</td>\n",
       "      <td>POLYGON ((-123.21488 38.94016, -123.21489 38.9...</td>\n",
       "    </tr>\n",
       "    <tr>\n",
       "      <th>2</th>\n",
       "      <td>3</td>\n",
       "      <td>{4A7807FE-7B9A-492A-AA96-460EE7B539F0}</td>\n",
       "      <td>&lt;Null&gt;</td>\n",
       "      <td>None</td>\n",
       "      <td>None</td>\n",
       "      <td>None</td>\n",
       "      <td>2012-06-11</td>\n",
       "      <td>0.0</td>\n",
       "      <td>8.285723e+05</td>\n",
       "      <td>3353.113015</td>\n",
       "      <td>...</td>\n",
       "      <td>1801</td>\n",
       "      <td>Klamath-Northern California Coastal</td>\n",
       "      <td>None</td>\n",
       "      <td>None</td>\n",
       "      <td>None</td>\n",
       "      <td>None</td>\n",
       "      <td>4</td>\n",
       "      <td>3.799687</td>\n",
       "      <td>0.346825</td>\n",
       "      <td>POLYGON ((-123.21488 38.94016, -123.21489 38.9...</td>\n",
       "    </tr>\n",
       "    <tr>\n",
       "      <th>3</th>\n",
       "      <td>4</td>\n",
       "      <td>{8B9A6D8B-2257-402E-99C7-B88C5C95D776}</td>\n",
       "      <td>&lt;Null&gt;</td>\n",
       "      <td>None</td>\n",
       "      <td>None</td>\n",
       "      <td>None</td>\n",
       "      <td>2012-06-11</td>\n",
       "      <td>0.0</td>\n",
       "      <td>2.331580e+05</td>\n",
       "      <td>943.556834</td>\n",
       "      <td>...</td>\n",
       "      <td>1805</td>\n",
       "      <td>San Francisco Bay</td>\n",
       "      <td>None</td>\n",
       "      <td>None</td>\n",
       "      <td>None</td>\n",
       "      <td>None</td>\n",
       "      <td>4</td>\n",
       "      <td>2.644000</td>\n",
       "      <td>0.097142</td>\n",
       "      <td>POLYGON ((-122.51962 38.47112, -122.51958 38.4...</td>\n",
       "    </tr>\n",
       "    <tr>\n",
       "      <th>4</th>\n",
       "      <td>5</td>\n",
       "      <td>{4A7807FE-7B9A-492A-AA96-460EE7B539F0}</td>\n",
       "      <td>&lt;Null&gt;</td>\n",
       "      <td>&lt;Null&gt;</td>\n",
       "      <td>&lt;Null&gt;</td>\n",
       "      <td>&lt;Null&gt;</td>\n",
       "      <td>2012-06-11</td>\n",
       "      <td>0.0</td>\n",
       "      <td>3.398405e+03</td>\n",
       "      <td>13.752857</td>\n",
       "      <td>...</td>\n",
       "      <td>1801</td>\n",
       "      <td>Klamath-Northern California Coastal</td>\n",
       "      <td>None</td>\n",
       "      <td>None</td>\n",
       "      <td>None</td>\n",
       "      <td>None</td>\n",
       "      <td>4</td>\n",
       "      <td>0.185588</td>\n",
       "      <td>0.001435</td>\n",
       "      <td>POLYGON ((-123.14819 39.23879, -123.14811 39.2...</td>\n",
       "    </tr>\n",
       "  </tbody>\n",
       "</table>\n",
       "<p>5 rows × 21 columns</p>\n",
       "</div>"
      ],
      "text/plain": [
       "   OBJECTID                                   TNMID MetaSource SourceData  \\\n",
       "0         1  {D924BD6E-507C-4E5B-A86C-DDDDE00752A5}     <Null>     <Null>   \n",
       "1         2  {D924BD6E-507C-4E5B-A86C-DDDDE00752A5}     <Null>       None   \n",
       "2         3  {4A7807FE-7B9A-492A-AA96-460EE7B539F0}     <Null>       None   \n",
       "3         4  {8B9A6D8B-2257-402E-99C7-B88C5C95D776}     <Null>       None   \n",
       "4         5  {4A7807FE-7B9A-492A-AA96-460EE7B539F0}     <Null>     <Null>   \n",
       "\n",
       "  SourceOrig SourceFeat    LoadDate  GNIS_ID     AreaAcres     AreaSqKm  ...  \\\n",
       "0     <Null>     <Null>  2012-06-11      0.0  3.398405e+03    13.752857  ...   \n",
       "1       None       None  2012-06-11      0.0  1.061730e+06  4296.669849  ...   \n",
       "2       None       None  2012-06-11      0.0  8.285723e+05  3353.113015  ...   \n",
       "3       None       None  2012-06-11      0.0  2.331580e+05   943.556834  ...   \n",
       "4     <Null>     <Null>  2012-06-11      0.0  3.398405e+03    13.752857  ...   \n",
       "\n",
       "  HUC_CODE                                 Name HUType HUMod ToHUC NonContrib  \\\n",
       "0       18                    California Region   None  None  None       None   \n",
       "1       18                    California Region   None  None  None       None   \n",
       "2     1801  Klamath-Northern California Coastal   None  None  None       None   \n",
       "3     1805                    San Francisco Bay   None  None  None       None   \n",
       "4     1801  Klamath-Northern California Coastal   None  None  None       None   \n",
       "\n",
       "  HUC  SHAPE_Leng  SHAPE_Area  \\\n",
       "0   2    0.185588    0.001435   \n",
       "1   2    4.358207    0.443967   \n",
       "2   4    3.799687    0.346825   \n",
       "3   4    2.644000    0.097142   \n",
       "4   4    0.185588    0.001435   \n",
       "\n",
       "                                            geometry  \n",
       "0  POLYGON ((-123.14819 39.23879, -123.14811 39.2...  \n",
       "1  POLYGON ((-123.21488 38.94016, -123.21489 38.9...  \n",
       "2  POLYGON ((-123.21488 38.94016, -123.21489 38.9...  \n",
       "3  POLYGON ((-122.51962 38.47112, -122.51958 38.4...  \n",
       "4  POLYGON ((-123.14819 39.23879, -123.14811 39.2...  \n",
       "\n",
       "[5 rows x 21 columns]"
      ]
     },
     "execution_count": 27,
     "metadata": {},
     "output_type": "execute_result"
    }
   ],
   "source": [
    "# What are these coordinate values representing?\n",
    "water_shed = gpd.read_file('./data/shapefiles/HYD_WTRSHD_HUC.shp')\n",
    "water_shed.head()"
   ]
  },
  {
   "cell_type": "code",
   "execution_count": 28,
   "id": "2d100a73-b1ab-43b5-ab4d-b817ab6096c3",
   "metadata": {},
   "outputs": [
    {
     "data": {
      "text/plain": [
       "<Geographic 2D CRS: EPSG:4326>\n",
       "Name: WGS 84\n",
       "Axis Info [ellipsoidal]:\n",
       "- Lat[north]: Geodetic latitude (degree)\n",
       "- Lon[east]: Geodetic longitude (degree)\n",
       "Area of Use:\n",
       "- name: World.\n",
       "- bounds: (-180.0, -90.0, 180.0, 90.0)\n",
       "Datum: World Geodetic System 1984 ensemble\n",
       "- Ellipsoid: WGS 84\n",
       "- Prime Meridian: Greenwich"
      ]
     },
     "execution_count": 28,
     "metadata": {},
     "output_type": "execute_result"
    }
   ],
   "source": [
    "# Let's use our russian river subset\n",
    "# check our current projection\n",
    "water_shed.crs"
   ]
  },
  {
   "cell_type": "markdown",
   "id": "0f3d3660-bd11-4adf-aed7-ad079a3564a7",
   "metadata": {},
   "source": [
    "From our CRS we can see an EPSG (European Petroleum Survey Group) code is [4326](https://epsg.io/4326) meaning it uses the WGS84 coordinate system in Lat/Long.\n",
    "\n",
    "For demonstration, let's reproject to EPSG:26910 or NAD83 UTM zone 10N"
   ]
  },
  {
   "cell_type": "code",
   "execution_count": 29,
   "id": "bee00df0-621f-4091-84af-e220caede473",
   "metadata": {},
   "outputs": [
    {
     "data": {
      "text/plain": [
       "<AxesSubplot:>"
      ]
     },
     "execution_count": 29,
     "metadata": {},
     "output_type": "execute_result"
    },
    {
     "data": {
      "image/png": "[encoded data removed]",
      "text/plain": [
       "<Figure size 432x288 with 1 Axes>"
      ]
     },
     "metadata": {
      "needs_background": "light"
     },
     "output_type": "display_data"
    }
   ],
   "source": [
    "reproj = water_shed.to_crs(epsg = 26910)\n",
    "reproj.plot()"
   ]
  },
  {
   "cell_type": "markdown",
   "id": "9fe153c7-c38d-4774-b1c7-653b0c7c559b",
   "metadata": {},
   "source": [
    "Notice that the coordinate system has now changed to meters from Lat/Long"
   ]
  },
  {
   "cell_type": "code",
   "execution_count": 30,
   "id": "79877d26-d4bf-4fad-9d2e-9f3d5cabca10",
   "metadata": {},
   "outputs": [
    {
     "data": {
      "text/plain": [
       "<AxesSubplot:>"
      ]
     },
     "execution_count": 30,
     "metadata": {},
     "output_type": "execute_result"
    },
    {
     "data": {
      "image/png": "[encoded data removed]",
      "text/plain": [
       "<Figure size 432x288 with 1 Axes>"
      ]
     },
     "metadata": {
      "needs_background": "light"
     },
     "output_type": "display_data"
    }
   ],
   "source": [
    "reproj2 = water_shed.to_crs(epsg = 32618)\n",
    "reproj2.plot()"
   ]
  },
  {
   "cell_type": "markdown",
   "id": "6f659b70-6575-4739-844e-e7b0d63a8cb7",
   "metadata": {},
   "source": [
    "It can be pretty easy to see when your projection is wrong! A big reason to save your reprojected data to a new variable. If you want to reproject again you may begin to run into issues with conistency. It is best to only project once and be aware if your data is projected to begin with. "
   ]
  },
  {
   "cell_type": "markdown",
   "id": "ac6f0821-4ba1-49d5-943e-cf8522993261",
   "metadata": {},
   "source": [
    "# 2. Manipulate spatial data\n",
    "### Let's explore another geospatial data type - multi polygon"
   ]
  },
  {
   "cell_type": "code",
   "execution_count": 10,
   "id": "27c05074-c914-41ee-9408-0bae36abb5f0",
   "metadata": {},
   "outputs": [
    {
     "data": {
      "text/html": [
       "<div>\n",
       "<style scoped>\n",
       "    .dataframe tbody tr th:only-of-type {\n",
       "        vertical-align: middle;\n",
       "    }\n",
       "\n",
       "    .dataframe tbody tr th {\n",
       "        vertical-align: top;\n",
       "    }\n",
       "\n",
       "    .dataframe thead th {\n",
       "        text-align: right;\n",
       "    }\n",
       "</style>\n",
       "<table border=\"1\" class=\"dataframe\">\n",
       "  <thead>\n",
       "    <tr style=\"text-align: right;\">\n",
       "      <th></th>\n",
       "      <th>OBJECTID</th>\n",
       "      <th>TNMID</th>\n",
       "      <th>MetaSource</th>\n",
       "      <th>SourceData</th>\n",
       "      <th>SourceOrig</th>\n",
       "      <th>SourceFeat</th>\n",
       "      <th>LoadDate</th>\n",
       "      <th>GNIS_ID</th>\n",
       "      <th>AreaAcres</th>\n",
       "      <th>AreaSqKm</th>\n",
       "      <th>...</th>\n",
       "      <th>HUC_CODE</th>\n",
       "      <th>Name</th>\n",
       "      <th>HUType</th>\n",
       "      <th>HUMod</th>\n",
       "      <th>ToHUC</th>\n",
       "      <th>NonContrib</th>\n",
       "      <th>HUC</th>\n",
       "      <th>SHAPE_Leng</th>\n",
       "      <th>SHAPE_Area</th>\n",
       "      <th>geometry</th>\n",
       "    </tr>\n",
       "  </thead>\n",
       "  <tbody>\n",
       "    <tr>\n",
       "      <th>0</th>\n",
       "      <td>1</td>\n",
       "      <td>{D924BD6E-507C-4E5B-A86C-DDDDE00752A5}</td>\n",
       "      <td>&lt;Null&gt;</td>\n",
       "      <td>&lt;Null&gt;</td>\n",
       "      <td>&lt;Null&gt;</td>\n",
       "      <td>&lt;Null&gt;</td>\n",
       "      <td>2012-06-11</td>\n",
       "      <td>0.0</td>\n",
       "      <td>3.398405e+03</td>\n",
       "      <td>13.752857</td>\n",
       "      <td>...</td>\n",
       "      <td>18</td>\n",
       "      <td>California Region</td>\n",
       "      <td>None</td>\n",
       "      <td>None</td>\n",
       "      <td>None</td>\n",
       "      <td>None</td>\n",
       "      <td>2</td>\n",
       "      <td>0.185588</td>\n",
       "      <td>0.001435</td>\n",
       "      <td>POLYGON ((-123.14819 39.23879, -123.14811 39.2...</td>\n",
       "    </tr>\n",
       "    <tr>\n",
       "      <th>1</th>\n",
       "      <td>2</td>\n",
       "      <td>{D924BD6E-507C-4E5B-A86C-DDDDE00752A5}</td>\n",
       "      <td>&lt;Null&gt;</td>\n",
       "      <td>None</td>\n",
       "      <td>None</td>\n",
       "      <td>None</td>\n",
       "      <td>2012-06-11</td>\n",
       "      <td>0.0</td>\n",
       "      <td>1.061730e+06</td>\n",
       "      <td>4296.669849</td>\n",
       "      <td>...</td>\n",
       "      <td>18</td>\n",
       "      <td>California Region</td>\n",
       "      <td>None</td>\n",
       "      <td>None</td>\n",
       "      <td>None</td>\n",
       "      <td>None</td>\n",
       "      <td>2</td>\n",
       "      <td>4.358207</td>\n",
       "      <td>0.443967</td>\n",
       "      <td>POLYGON ((-123.21488 38.94016, -123.21489 38.9...</td>\n",
       "    </tr>\n",
       "    <tr>\n",
       "      <th>2</th>\n",
       "      <td>3</td>\n",
       "      <td>{4A7807FE-7B9A-492A-AA96-460EE7B539F0}</td>\n",
       "      <td>&lt;Null&gt;</td>\n",
       "      <td>None</td>\n",
       "      <td>None</td>\n",
       "      <td>None</td>\n",
       "      <td>2012-06-11</td>\n",
       "      <td>0.0</td>\n",
       "      <td>8.285723e+05</td>\n",
       "      <td>3353.113015</td>\n",
       "      <td>...</td>\n",
       "      <td>1801</td>\n",
       "      <td>Klamath-Northern California Coastal</td>\n",
       "      <td>None</td>\n",
       "      <td>None</td>\n",
       "      <td>None</td>\n",
       "      <td>None</td>\n",
       "      <td>4</td>\n",
       "      <td>3.799687</td>\n",
       "      <td>0.346825</td>\n",
       "      <td>POLYGON ((-123.21488 38.94016, -123.21489 38.9...</td>\n",
       "    </tr>\n",
       "    <tr>\n",
       "      <th>3</th>\n",
       "      <td>4</td>\n",
       "      <td>{8B9A6D8B-2257-402E-99C7-B88C5C95D776}</td>\n",
       "      <td>&lt;Null&gt;</td>\n",
       "      <td>None</td>\n",
       "      <td>None</td>\n",
       "      <td>None</td>\n",
       "      <td>2012-06-11</td>\n",
       "      <td>0.0</td>\n",
       "      <td>2.331580e+05</td>\n",
       "      <td>943.556834</td>\n",
       "      <td>...</td>\n",
       "      <td>1805</td>\n",
       "      <td>San Francisco Bay</td>\n",
       "      <td>None</td>\n",
       "      <td>None</td>\n",
       "      <td>None</td>\n",
       "      <td>None</td>\n",
       "      <td>4</td>\n",
       "      <td>2.644000</td>\n",
       "      <td>0.097142</td>\n",
       "      <td>POLYGON ((-122.51962 38.47112, -122.51958 38.4...</td>\n",
       "    </tr>\n",
       "    <tr>\n",
       "      <th>4</th>\n",
       "      <td>5</td>\n",
       "      <td>{4A7807FE-7B9A-492A-AA96-460EE7B539F0}</td>\n",
       "      <td>&lt;Null&gt;</td>\n",
       "      <td>&lt;Null&gt;</td>\n",
       "      <td>&lt;Null&gt;</td>\n",
       "      <td>&lt;Null&gt;</td>\n",
       "      <td>2012-06-11</td>\n",
       "      <td>0.0</td>\n",
       "      <td>3.398405e+03</td>\n",
       "      <td>13.752857</td>\n",
       "      <td>...</td>\n",
       "      <td>1801</td>\n",
       "      <td>Klamath-Northern California Coastal</td>\n",
       "      <td>None</td>\n",
       "      <td>None</td>\n",
       "      <td>None</td>\n",
       "      <td>None</td>\n",
       "      <td>4</td>\n",
       "      <td>0.185588</td>\n",
       "      <td>0.001435</td>\n",
       "      <td>POLYGON ((-123.14819 39.23879, -123.14811 39.2...</td>\n",
       "    </tr>\n",
       "  </tbody>\n",
       "</table>\n",
       "<p>5 rows × 21 columns</p>\n",
       "</div>"
      ],
      "text/plain": [
       "   OBJECTID                                   TNMID MetaSource SourceData  \\\n",
       "0         1  {D924BD6E-507C-4E5B-A86C-DDDDE00752A5}     <Null>     <Null>   \n",
       "1         2  {D924BD6E-507C-4E5B-A86C-DDDDE00752A5}     <Null>       None   \n",
       "2         3  {4A7807FE-7B9A-492A-AA96-460EE7B539F0}     <Null>       None   \n",
       "3         4  {8B9A6D8B-2257-402E-99C7-B88C5C95D776}     <Null>       None   \n",
       "4         5  {4A7807FE-7B9A-492A-AA96-460EE7B539F0}     <Null>     <Null>   \n",
       "\n",
       "  SourceOrig SourceFeat    LoadDate  GNIS_ID     AreaAcres     AreaSqKm  ...  \\\n",
       "0     <Null>     <Null>  2012-06-11      0.0  3.398405e+03    13.752857  ...   \n",
       "1       None       None  2012-06-11      0.0  1.061730e+06  4296.669849  ...   \n",
       "2       None       None  2012-06-11      0.0  8.285723e+05  3353.113015  ...   \n",
       "3       None       None  2012-06-11      0.0  2.331580e+05   943.556834  ...   \n",
       "4     <Null>     <Null>  2012-06-11      0.0  3.398405e+03    13.752857  ...   \n",
       "\n",
       "  HUC_CODE                                 Name HUType HUMod ToHUC NonContrib  \\\n",
       "0       18                    California Region   None  None  None       None   \n",
       "1       18                    California Region   None  None  None       None   \n",
       "2     1801  Klamath-Northern California Coastal   None  None  None       None   \n",
       "3     1805                    San Francisco Bay   None  None  None       None   \n",
       "4     1801  Klamath-Northern California Coastal   None  None  None       None   \n",
       "\n",
       "  HUC  SHAPE_Leng  SHAPE_Area  \\\n",
       "0   2    0.185588    0.001435   \n",
       "1   2    4.358207    0.443967   \n",
       "2   4    3.799687    0.346825   \n",
       "3   4    2.644000    0.097142   \n",
       "4   4    0.185588    0.001435   \n",
       "\n",
       "                                            geometry  \n",
       "0  POLYGON ((-123.14819 39.23879, -123.14811 39.2...  \n",
       "1  POLYGON ((-123.21488 38.94016, -123.21489 38.9...  \n",
       "2  POLYGON ((-123.21488 38.94016, -123.21489 38.9...  \n",
       "3  POLYGON ((-122.51962 38.47112, -122.51958 38.4...  \n",
       "4  POLYGON ((-123.14819 39.23879, -123.14811 39.2...  \n",
       "\n",
       "[5 rows x 21 columns]"
      ]
     },
     "execution_count": 10,
     "metadata": {},
     "output_type": "execute_result"
    }
   ],
   "source": [
    "water_shed.head()"
   ]
  },
  {
   "cell_type": "code",
   "execution_count": 12,
   "id": "ed235dac-0337-4855-a798-628d1af2efb2",
   "metadata": {},
   "outputs": [
    {
     "name": "stdout",
     "output_type": "stream",
     "text": [
      "Number of points: 238\n",
      "How many different HUC types: ['California Region' 'Klamath-Northern California Coastal'\n",
      " 'San Francisco Bay' 'Northern California Coastal' 'Russian'\n",
      " 'Gualala-Salmon' 'Tomales-Drake Bays' 'San Pablo Bay'\n",
      " 'Salmon Creek-Frontal Pacific Ocean' 'Tomales Bay-Bodega Bay'\n",
      " 'Walker Creek' 'Petaluma River-Frontal San Pablo Bay Estuaries'\n",
      " 'Mark West Creek' 'Sonoma Creek-Frontal San Pablo Bay Estuaries'\n",
      " 'Carneros Creek-Frontal San Pablo Bay Estuaries' 'Lower Russian River'\n",
      " 'Austin Creek' 'Gualala River' 'Dry Creek' 'Middle Russian River'\n",
      " 'Big Sulphur Creek' 'Upper Russian River'\n",
      " 'Lake Mendocino-East Fork Russian River' 'Marshall Creek' 'House Creek'\n",
      " 'Upper Wheatfield Fork Gualala River'\n",
      " 'Lower Wheatfield Fork Gualala River' 'Buckeye Creek' 'Rockpile Creek'\n",
      " 'South Fork Gualala River-Gualala River' 'Salmon Creek'\n",
      " 'Russian Gulch-Frontal Pacific Ocean'\n",
      " 'Bodega Harbor-Frontal Pacific Ocean' 'Little Sulphur Creek'\n",
      " 'Alder Creek-Big Sulphur Creek' 'Oat Valley Creek-Russian River'\n",
      " 'Galloway Creek' 'Soda Spring Creek-Dry Creek' 'Warm Springs Creek'\n",
      " 'Lake Sonoma-Dry Creek' 'Pena Creek' 'Mill Creek' 'West Slough-Dry Creek'\n",
      " 'Gill Creek-Russian River' 'Sausal Creek-Russian River' 'Franz Creek'\n",
      " 'Maacama Creek' 'Brooks Creek-Russian River' 'Upper Laguna De Santa Rosa'\n",
      " 'Upper Santa Rosa Creek' 'Lower Santa Rosa Creek'\n",
      " 'Lower Laguna De Santa Rosa' 'Windsor Creek'\n",
      " 'Porter Creek-Mark West Creek' 'East Austin Creek'\n",
      " 'Ward Creek-Austin Creek' 'Green Valley Creek'\n",
      " 'Porter Creek-Russian River' 'Dutch Bill Creek-Russian River'\n",
      " 'Willow Creek-Russian River' 'Upper Sonoma Creek' 'Fowler Creek'\n",
      " 'Lower Sonoma Creek' 'Schell Creek-Frontal San Pablo Bay Estuaries'\n",
      " 'Petaluma River' 'San Antonio Creek'\n",
      " 'Tolay Creek-Frontal San Pablo Bay Estuaries'\n",
      " 'Adobe Creek-Frontal San Pablo Bay Estuaries' 'Chileno Creek'\n",
      " 'Bodega Harbor' 'Estero Americano' 'Estero De San Antonio' 'Bodega Bay'\n",
      " None]\n"
     ]
    }
   ],
   "source": [
    "# commas allow print statements to concatenate different datatypes\n",
    "print('Number of points:', len(water_shed))\n",
    "print('How many different HUC types:', water_shed['Name'].unique())"
   ]
  },
  {
   "cell_type": "code",
   "execution_count": 14,
   "id": "f6b08887-6462-4238-82fa-96d38a7c576a",
   "metadata": {},
   "outputs": [
    {
     "data": {
      "text/plain": [
       "array(['Russian', 'Lower Russian River', 'Middle Russian River',\n",
       "       'Upper Russian River', 'Lake Mendocino-East Fork Russian River',\n",
       "       'Russian Gulch-Frontal Pacific Ocean',\n",
       "       'Oat Valley Creek-Russian River', 'Gill Creek-Russian River',\n",
       "       'Sausal Creek-Russian River', 'Brooks Creek-Russian River',\n",
       "       'Porter Creek-Russian River', 'Dutch Bill Creek-Russian River',\n",
       "       'Willow Creek-Russian River'], dtype=object)"
      ]
     },
     "execution_count": 14,
     "metadata": {},
     "output_type": "execute_result"
    }
   ],
   "source": [
    "# subset to only Russian river watersheds\n",
    "russian_river = water_shed[water_shed['Name'].str.contains('Russian', na = False)]\n",
    "russian_river['Name'].unique()"
   ]
  },
  {
   "cell_type": "code",
   "execution_count": 15,
   "id": "f8969aa2-6b79-489d-bb49-1dcd23bb481e",
   "metadata": {},
   "outputs": [
    {
     "data": {
      "text/plain": [
       "<AxesSubplot:>"
      ]
     },
     "execution_count": 15,
     "metadata": {},
     "output_type": "execute_result"
    },
    {
     "data": {
      "image/png": "[encoded data removed]",
      "text/plain": [
       "<Figure size 432x288 with 1 Axes>"
      ]
     },
     "metadata": {
      "needs_background": "light"
     },
     "output_type": "display_data"
    }
   ],
   "source": [
    "russian_river.plot()"
   ]
  },
  {
   "cell_type": "markdown",
   "id": "42c99ddd-b4fb-418f-ae73-afee19d45939",
   "metadata": {},
   "source": [
    "### Point and polygon intersection"
   ]
  },
  {
   "cell_type": "code",
   "execution_count": 19,
   "id": "3ac12470-9379-4c8a-bcbc-2307619fd8da",
   "metadata": {},
   "outputs": [
    {
     "data": {
      "text/html": [
       "<div>\n",
       "<style scoped>\n",
       "    .dataframe tbody tr th:only-of-type {\n",
       "        vertical-align: middle;\n",
       "    }\n",
       "\n",
       "    .dataframe tbody tr th {\n",
       "        vertical-align: top;\n",
       "    }\n",
       "\n",
       "    .dataframe thead th {\n",
       "        text-align: right;\n",
       "    }\n",
       "</style>\n",
       "<table border=\"1\" class=\"dataframe\">\n",
       "  <thead>\n",
       "    <tr style=\"text-align: right;\">\n",
       "      <th></th>\n",
       "      <th>SiteID</th>\n",
       "      <th>UTME</th>\n",
       "      <th>UTMN</th>\n",
       "      <th>Proj_Code</th>\n",
       "      <th>Veg</th>\n",
       "      <th>Met</th>\n",
       "      <th>Wildlife</th>\n",
       "      <th>Hydro</th>\n",
       "      <th>Soil</th>\n",
       "      <th>Start_Date</th>\n",
       "      <th>...</th>\n",
       "      <th>Proj_Mgr</th>\n",
       "      <th>PWD_staff</th>\n",
       "      <th>Proj_Name</th>\n",
       "      <th>CWD30</th>\n",
       "      <th>Aspect</th>\n",
       "      <th>Slope</th>\n",
       "      <th>Elev_ft</th>\n",
       "      <th>Soil_typ</th>\n",
       "      <th>Soil_serie</th>\n",
       "      <th>geometry</th>\n",
       "    </tr>\n",
       "  </thead>\n",
       "  <tbody>\n",
       "    <tr>\n",
       "      <th>0</th>\n",
       "      <td>Grass MET</td>\n",
       "      <td>526656</td>\n",
       "      <td>4269181</td>\n",
       "      <td>MET</td>\n",
       "      <td>0</td>\n",
       "      <td>1</td>\n",
       "      <td>0</td>\n",
       "      <td>0</td>\n",
       "      <td>1</td>\n",
       "      <td>10/4/2010</td>\n",
       "      <td>...</td>\n",
       "      <td>Ryan Ferrell</td>\n",
       "      <td>Ryan Ferrell</td>\n",
       "      <td>Meteorologic Monitoring</td>\n",
       "      <td>972.747986</td>\n",
       "      <td>209.093002</td>\n",
       "      <td>12.84010</td>\n",
       "      <td>1211.569946</td>\n",
       "      <td>4</td>\n",
       "      <td>Yorkville Clay Loam</td>\n",
       "      <td>POINT (526656.000 4269181.000)</td>\n",
       "    </tr>\n",
       "    <tr>\n",
       "      <th>1</th>\n",
       "      <td>Redwood MET</td>\n",
       "      <td>526292</td>\n",
       "      <td>4270627</td>\n",
       "      <td>MET</td>\n",
       "      <td>0</td>\n",
       "      <td>1</td>\n",
       "      <td>0</td>\n",
       "      <td>0</td>\n",
       "      <td>1</td>\n",
       "      <td>6/1/2019</td>\n",
       "      <td>...</td>\n",
       "      <td>Ryan Ferrell</td>\n",
       "      <td>Ryan Ferrell</td>\n",
       "      <td>Meteorologic Monitoring</td>\n",
       "      <td>807.585022</td>\n",
       "      <td>227.011993</td>\n",
       "      <td>7.65624</td>\n",
       "      <td>1323.569946</td>\n",
       "      <td>4</td>\n",
       "      <td>Yorkville Clay Loam</td>\n",
       "      <td>POINT (526292.000 4270627.000)</td>\n",
       "    </tr>\n",
       "    <tr>\n",
       "      <th>2</th>\n",
       "      <td>Rogers MET</td>\n",
       "      <td>525116</td>\n",
       "      <td>4269893</td>\n",
       "      <td>MET</td>\n",
       "      <td>0</td>\n",
       "      <td>1</td>\n",
       "      <td>0</td>\n",
       "      <td>0</td>\n",
       "      <td>1</td>\n",
       "      <td>6/3/2019</td>\n",
       "      <td>...</td>\n",
       "      <td>Ryan Ferrell</td>\n",
       "      <td>Ryan Ferrell</td>\n",
       "      <td>Meteorologic Monitoring</td>\n",
       "      <td>1084.560059</td>\n",
       "      <td>219.800003</td>\n",
       "      <td>4.09495</td>\n",
       "      <td>1132.680054</td>\n",
       "      <td>4</td>\n",
       "      <td>Yorkville Clay Loam</td>\n",
       "      <td>POINT (525116.000 4269893.000)</td>\n",
       "    </tr>\n",
       "    <tr>\n",
       "      <th>3</th>\n",
       "      <td>Upper Martin MET</td>\n",
       "      <td>524879</td>\n",
       "      <td>4271127</td>\n",
       "      <td>MET</td>\n",
       "      <td>0</td>\n",
       "      <td>1</td>\n",
       "      <td>0</td>\n",
       "      <td>0</td>\n",
       "      <td>1</td>\n",
       "      <td>6/4/2019</td>\n",
       "      <td>...</td>\n",
       "      <td>Ryan Ferrell</td>\n",
       "      <td>Ryan Ferrell</td>\n",
       "      <td>Meteorologic Monitoring</td>\n",
       "      <td>933.205994</td>\n",
       "      <td>316.204987</td>\n",
       "      <td>9.56804</td>\n",
       "      <td>1164.449951</td>\n",
       "      <td>4</td>\n",
       "      <td>Yorkville Clay Loam</td>\n",
       "      <td>POINT (524879.000 4271127.000)</td>\n",
       "    </tr>\n",
       "    <tr>\n",
       "      <th>4</th>\n",
       "      <td>Lower Martin MET</td>\n",
       "      <td>522575</td>\n",
       "      <td>4273059</td>\n",
       "      <td>MET</td>\n",
       "      <td>0</td>\n",
       "      <td>1</td>\n",
       "      <td>0</td>\n",
       "      <td>0</td>\n",
       "      <td>1</td>\n",
       "      <td>6/2/2019</td>\n",
       "      <td>...</td>\n",
       "      <td>Ryan Ferrell</td>\n",
       "      <td>Ryan Ferrell</td>\n",
       "      <td>Meteorologic Monitoring</td>\n",
       "      <td>813.960998</td>\n",
       "      <td>180.169998</td>\n",
       "      <td>15.68660</td>\n",
       "      <td>449.100006</td>\n",
       "      <td>5</td>\n",
       "      <td>Spreckles Loam</td>\n",
       "      <td>POINT (522575.000 4273059.000)</td>\n",
       "    </tr>\n",
       "  </tbody>\n",
       "</table>\n",
       "<p>5 rows × 22 columns</p>\n",
       "</div>"
      ],
      "text/plain": [
       "             SiteID    UTME     UTMN Proj_Code  Veg  Met  Wildlife  Hydro  \\\n",
       "0         Grass MET  526656  4269181       MET    0    1         0      0   \n",
       "1       Redwood MET  526292  4270627       MET    0    1         0      0   \n",
       "2        Rogers MET  525116  4269893       MET    0    1         0      0   \n",
       "3  Upper Martin MET  524879  4271127       MET    0    1         0      0   \n",
       "4  Lower Martin MET  522575  4273059       MET    0    1         0      0   \n",
       "\n",
       "   Soil Start_Date  ...      Proj_Mgr     PWD_staff                Proj_Name  \\\n",
       "0     1  10/4/2010  ...  Ryan Ferrell  Ryan Ferrell  Meteorologic Monitoring   \n",
       "1     1   6/1/2019  ...  Ryan Ferrell  Ryan Ferrell  Meteorologic Monitoring   \n",
       "2     1   6/3/2019  ...  Ryan Ferrell  Ryan Ferrell  Meteorologic Monitoring   \n",
       "3     1   6/4/2019  ...  Ryan Ferrell  Ryan Ferrell  Meteorologic Monitoring   \n",
       "4     1   6/2/2019  ...  Ryan Ferrell  Ryan Ferrell  Meteorologic Monitoring   \n",
       "\n",
       "         CWD30      Aspect     Slope      Elev_ft  Soil_typ  \\\n",
       "0   972.747986  209.093002  12.84010  1211.569946         4   \n",
       "1   807.585022  227.011993   7.65624  1323.569946         4   \n",
       "2  1084.560059  219.800003   4.09495  1132.680054         4   \n",
       "3   933.205994  316.204987   9.56804  1164.449951         4   \n",
       "4   813.960998  180.169998  15.68660   449.100006         5   \n",
       "\n",
       "            Soil_serie                        geometry  \n",
       "0  Yorkville Clay Loam  POINT (526656.000 4269181.000)  \n",
       "1  Yorkville Clay Loam  POINT (526292.000 4270627.000)  \n",
       "2  Yorkville Clay Loam  POINT (525116.000 4269893.000)  \n",
       "3  Yorkville Clay Loam  POINT (524879.000 4271127.000)  \n",
       "4       Spreckles Loam  POINT (522575.000 4273059.000)  \n",
       "\n",
       "[5 rows x 22 columns]"
      ]
     },
     "execution_count": 19,
     "metadata": {},
     "output_type": "execute_result"
    }
   ],
   "source": [
    "pts = gpd.read_file('./data/shapefiles/PWD_MetStations2021.shp')\n",
    "pts.head()"
   ]
  },
  {
   "cell_type": "code",
   "execution_count": 20,
   "id": "d81087cd-509b-4caf-b0c6-1241533b3a38",
   "metadata": {},
   "outputs": [
    {
     "data": {
      "text/plain": [
       "<AxesSubplot:>"
      ]
     },
     "execution_count": 20,
     "metadata": {},
     "output_type": "execute_result"
    },
    {
     "data": {
      "image/png": "[encoded data removed]",
      "text/plain": [
       "<Figure size 432x288 with 1 Axes>"
      ]
     },
     "metadata": {
      "needs_background": "light"
     },
     "output_type": "display_data"
    }
   ],
   "source": [
    "pts.plot()"
   ]
  },
  {
   "cell_type": "code",
   "execution_count": 22,
   "id": "f479382e-cfdf-4d30-a62a-99e38b741a87",
   "metadata": {},
   "outputs": [
    {
     "data": {
      "text/plain": [
       "<Derived Projected CRS: EPSG:32610>\n",
       "Name: WGS 84 / UTM zone 10N\n",
       "Axis Info [cartesian]:\n",
       "- E[east]: Easting (metre)\n",
       "- N[north]: Northing (metre)\n",
       "Area of Use:\n",
       "- name: Between 126°W and 120°W, northern hemisphere between equator and 84°N, onshore and offshore. Canada - British Columbia (BC); Northwest Territories (NWT); Nunavut; Yukon. United States (USA) - Alaska (AK).\n",
       "- bounds: (-126.0, 0.0, -120.0, 84.0)\n",
       "Coordinate Operation:\n",
       "- name: UTM zone 10N\n",
       "- method: Transverse Mercator\n",
       "Datum: World Geodetic System 1984 ensemble\n",
       "- Ellipsoid: WGS 84\n",
       "- Prime Meridian: Greenwich"
      ]
     },
     "execution_count": 22,
     "metadata": {},
     "output_type": "execute_result"
    }
   ],
   "source": [
    "pts.crs"
   ]
  },
  {
   "cell_type": "code",
   "execution_count": 67,
   "id": "49f98bd4-9fdc-4f5d-ab49-c274af4a929b",
   "metadata": {},
   "outputs": [
    {
     "data": {
      "text/plain": [
       "False"
      ]
     },
     "execution_count": 67,
     "metadata": {},
     "output_type": "execute_result"
    }
   ],
   "source": [
    "# Check if our projections are the same!\n",
    "pts.crs == sonoma.crs"
   ]
  },
  {
   "cell_type": "code",
   "execution_count": 68,
   "id": "bcd2aec4-22d1-48ca-946d-95ce518c5121",
   "metadata": {},
   "outputs": [
    {
     "data": {
      "text/plain": [
       "True"
      ]
     },
     "execution_count": 68,
     "metadata": {},
     "output_type": "execute_result"
    }
   ],
   "source": [
    "# reproject sonoma to match gps points\n",
    "proj = sonoma.to_crs(epsg = 32610)\n",
    "pts.crs == proj.crs"
   ]
  },
  {
   "cell_type": "code",
   "execution_count": 69,
   "id": "ef5880fa-afb6-41ab-a42a-6e5286eca760",
   "metadata": {},
   "outputs": [
    {
     "data": {
      "text/plain": [
       "0    True\n",
       "dtype: bool"
      ]
     },
     "execution_count": 69,
     "metadata": {},
     "output_type": "execute_result"
    }
   ],
   "source": [
    "proj.contains(pts.iloc[[0]])"
   ]
  },
  {
   "cell_type": "markdown",
   "id": "e4aab195-7f61-4e7f-a325-f9db1c5102b4",
   "metadata": {},
   "source": [
    "# 3. Saving geopandas objects"
   ]
  },
  {
   "cell_type": "markdown",
   "id": "dd98a252-2f5f-4afc-a3b4-440169e8f8ea",
   "metadata": {},
   "source": [
    "Save out subselection of the Russian River drainages to a new shapefile"
   ]
  },
  {
   "cell_type": "code",
   "execution_count": null,
   "id": "bd88a94a-5f1e-4fc1-ba07-7c695aac22fe",
   "metadata": {},
   "outputs": [],
   "source": [
    "out_dir = './results'\n",
    "\n",
    "# specify an out file\n",
    "out_file = os.path.join(out_dir, \"Class_36200.shp\")\n",
    "russian_river.to_file(out_file)"
   ]
  },
  {
   "cell_type": "code",
   "execution_count": null,
   "id": "c8719ae6-cf1f-45d5-90de-356f8f96b994",
   "metadata": {},
   "outputs": [],
   "source": [
    "# read in our selection to check it\n",
    "temp = gpd.read_file(out_file)\n",
    "temp.plot()"
   ]
  },
  {
   "cell_type": "code",
   "execution_count": null,
   "id": "8be06602-2be4-42d8-a968-a5bc592d3bab",
   "metadata": {},
   "outputs": [],
   "source": [
    "# clean up what we created\n",
    "folder = './results/*'\n",
    "files = glob.glob(folder)\n",
    "print(files)\n",
    "for f in files:  \n",
    "    os.remove(f)"
   ]
  },
  {
   "cell_type": "code",
   "execution_count": null,
   "id": "cb0978d2-56b0-40f0-86f4-cb8fd5082ff1",
   "metadata": {},
   "outputs": [],
   "source": [
    "glob.glob(folder)"
   ]
  },
  {
   "cell_type": "markdown",
   "id": "1f53e804-1904-438d-9a7e-fc7b070e19d2",
   "metadata": {},
   "source": [
    "# 4. Basic visualization of geospatial data"
   ]
  },
  {
   "cell_type": "code",
   "execution_count": null,
   "id": "f5bea102-3a48-4b22-986f-264139f74c06",
   "metadata": {},
   "outputs": [],
   "source": [
    "# Make subplots that are next to each other\n",
    "fig, (ax1, ax2) = plt.subplots(nrows=1, ncols=2, figsize=(12, 12))\n",
    "\n",
    "# Plot the original CRS\n",
    "russian_river.plot(ax=ax1, facecolor='gray')\n",
    "\n",
    "# Add title\n",
    "ax1.set_title(\"WGS84\")\n",
    "\n",
    "# Plot the one with the incorrect projection\n",
    "reproj2.plot(ax=ax2, facecolor='blue')\n",
    "\n",
    "# Add title\n",
    "ax2.set_title(\"Incorrect projections\")\n",
    "\n",
    "# Set aspect ratio as 1\n",
    "ax1.set_aspect(aspect=1)\n",
    "ax2.set_aspect(aspect=1)\n",
    "\n",
    "# Remove empty white space around the plot\n",
    "plt.tight_layout()"
   ]
  },
  {
   "cell_type": "markdown",
   "id": "193caf8a-2c44-423f-848f-8a664875d87b",
   "metadata": {},
   "source": [
    "# 5. Adding basemaps for visualization and context"
   ]
  },
  {
   "cell_type": "markdown",
   "id": "41c4047d-18d4-4b15-8394-be9a4b871f4d",
   "metadata": {},
   "source": [
    "Folium by default uses OpenStreetMap but also can pull down Stamen Terrain and Stamen Toner. Markers can be added using [bootstrap](https://getbootstrap.com/docs/3.3/components/)"
   ]
  },
  {
   "cell_type": "code",
   "execution_count": null,
   "id": "5dbe57f6-190b-4282-82d8-5a5e3862bfe3",
   "metadata": {
    "tags": []
   },
   "outputs": [],
   "source": [
    "# Show set zoom for Flagstaff OpenStreetMaps\n",
    "m = folium.Map(location=[35.1983, -111.6513], zoom_start=14)\n",
    "\n",
    "# Add markers to LOIs\n",
    "folium.Marker([35.18619596476278, -111.65855717457414], \n",
    "              popup=\"<i>SICCS</i>\", \n",
    "              tooltip = \"Where am I?\",\n",
    "              icon=folium.Icon(color=\"red\", icon=\"glyphicon-thumbs-up\")\n",
    "             ).add_to(m)\n",
    "\n",
    "# display map\n",
    "m"
   ]
  },
  {
   "cell_type": "markdown",
   "id": "32745c23-03ef-4cc7-b5be-2a7c22665bf3",
   "metadata": {},
   "source": [
    "Sometimes it can be helpful to dipslay coords to recenter a map:"
   ]
  },
  {
   "cell_type": "code",
   "execution_count": null,
   "id": "cd7a1776-b665-49db-8032-95210619bd4e",
   "metadata": {
    "tags": []
   },
   "outputs": [],
   "source": [
    "m = folium.Map(location=[35.1983, -111.6513], zoom_start=11, tiles = 'Stamen Terrain')\n",
    "m.add_child(folium.LatLngPopup())\n",
    "m"
   ]
  }
 ],
 "metadata": {
  "kernelspec": {
   "display_name": "Python [conda env:py38-gis] *",
   "language": "python",
   "name": "conda-env-py38-gis-py"
  },
  "language_info": {
   "codemirror_mode": {
    "name": "ipython",
    "version": 3
   },
   "file_extension": ".py",
   "mimetype": "text/x-python",
   "name": "python",
   "nbconvert_exporter": "python",
   "pygments_lexer": "ipython3",
   "version": "3.8.12"
  }
 },
 "nbformat": 4,
 "nbformat_minor": 5
}
