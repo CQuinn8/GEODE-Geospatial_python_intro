{
 "cells": [
  {
   "cell_type": "markdown",
   "metadata": {},
   "source": [
    "Material adapted from https://kodu.ut.ee/~kmoch/geopython2019/L4/raster.html\n",
    "and http://patrickgray.me/open-geo-tutorial/chapter_3_visualization.html\n"
   ]
  },
  {
   "cell_type": "markdown",
   "metadata": {},
   "source": [
    "Imports"
   ]
  },
  {
   "cell_type": "code",
   "execution_count": null,
   "metadata": {},
   "outputs": [],
   "source": [
    "import geopandas as gpd\n",
    "import rasterio, descartes, ipyleaflet\n",
    "import os\n",
    "import fiona\n",
    "import numpy as np\n",
    "import matplotlib.pyplot as plt\n",
    "from rasterio.plot import show\n",
    "from rasterio.plot import show_hist\n",
    "from rasterio.mask import mask"
   ]
  },
  {
   "cell_type": "markdown",
   "metadata": {},
   "source": [
    "Set working directory"
   ]
  },
  {
   "cell_type": "code",
   "execution_count": null,
   "metadata": {},
   "outputs": [],
   "source": [
    "wdir = r'G:/My Drive/Projects/geode/tutorials/pythontutorial'"
   ]
  },
  {
   "cell_type": "markdown",
   "metadata": {},
   "source": [
    "Set file names"
   ]
  },
  {
   "cell_type": "code",
   "execution_count": null,
   "metadata": {},
   "outputs": [],
   "source": [
    "# Year 2000 intact forest landscapes\n",
    "iflPath2000 = 'ifl_239_276_2000.shp'\n",
    "# Year 2020 intact forest landscapes\n",
    "iflPath2020 = 'ifl_239_276_2020.shp'\n",
    "\n",
    "# Year 2000 dispersal probability surface\n",
    "dpsPath2000 = 'corr_2000_239_276.tif'\n",
    "# Year 2020 dispersal probability surface\n",
    "dpsPath2020 = 'corr_2020_239_276.tif'\n",
    "\n",
    "# Protected areas\n",
    "pasPath = 'bz_pa.shp'"
   ]
  },
  {
   "cell_type": "markdown",
   "metadata": {},
   "source": [
    "Read a tif of the probability of dispersal between two intact forest landscapes in the year 2000"
   ]
  },
  {
   "cell_type": "code",
   "execution_count": null,
   "metadata": {},
   "outputs": [],
   "source": [
    "ds1 = rasterio.open(wdir + '/' + dpsPath2000)"
   ]
  },
  {
   "cell_type": "markdown",
   "metadata": {},
   "source": [
    "Describe it"
   ]
  },
  {
   "cell_type": "code",
   "execution_count": null,
   "metadata": {},
   "outputs": [],
   "source": [
    "print(ds1.name)\n",
    "print(ds1.width)\n",
    "print(ds1.height)\n",
    "print(ds1.crs)\n",
    "print(ds1.bounds)"
   ]
  },
  {
   "cell_type": "code",
   "execution_count": null,
   "metadata": {},
   "outputs": [],
   "source": [
    "# A more comprehensive description\n",
    "print(ds1.profile)"
   ]
  },
  {
   "cell_type": "markdown",
   "metadata": {},
   "source": [
    "Each raster dataset can have several bands. Each band in Python and Rasterio is essentially handled as a Numpy array."
   ]
  },
  {
   "cell_type": "code",
   "execution_count": null,
   "metadata": {},
   "outputs": [],
   "source": [
    "# Read the first band to a variable and print\n",
    "dps00 = ds1.read(1)\n",
    "dps00"
   ]
  },
  {
   "cell_type": "code",
   "execution_count": null,
   "metadata": {},
   "outputs": [],
   "source": [
    "# Plot the first band\n",
    "show(dps00)"
   ]
  },
  {
   "cell_type": "code",
   "execution_count": null,
   "metadata": {},
   "outputs": [],
   "source": [
    "# Calculate summary stats of dispersal probabilities\n",
    "print('min is ' + str(np.min(dps00)))\n",
    "print('max is ' + str(np.max(dps00)))\n",
    "print('mean is ' + str(np.mean(dps00)))\n",
    "print('mean in year 2000 corridor is ' + str(np.mean(dps00[dps00 > 0])))"
   ]
  },
  {
   "cell_type": "code",
   "execution_count": null,
   "metadata": {},
   "outputs": [],
   "source": [
    "# Plot histogram of raster values\n",
    "show_hist(ds1, bins=19, lw=0.0, stacked=False, alpha=0.3, histtype='stepfilled', title=\"Histogram\")"
   ]
  },
  {
   "cell_type": "code",
   "execution_count": null,
   "metadata": {},
   "outputs": [],
   "source": [
    "# Read in year 2020 dispersal probability surface\n",
    "ds2 = rasterio.open(wdir + '/' + dpsPath2020)\n",
    "dps20 = ds2.read(1)\n",
    "show(dps20)\n",
    "print('mean in year 2000 corridor is ' + str(np.mean(dps00[dps00 > 0])))\n",
    "print('mean in year 2020 corridor is ' + str(np.mean(dps20[dps20 > 0])))"
   ]
  },
  {
   "cell_type": "markdown",
   "metadata": {},
   "source": [
    "Plot side by side"
   ]
  },
  {
   "cell_type": "code",
   "execution_count": null,
   "metadata": {},
   "outputs": [],
   "source": [
    "# 2by plot using matplotlib object oriented approach\n",
    "fig, (ax1, ax2) = plt.subplots(1,2, figsize=(10,8)) # 2 axes on a 1x2 grid\n",
    "# find max probability to put them on the same colorbar scale\n",
    "max_prob = np.amax([np.amax(dps00), np.amax(dps20)])\n",
    "# 2000 probs\n",
    "dps00ax = ax1.imshow(dps00)\n",
    "ax1.set_title(\"Dispersal Probability 2000\")\n",
    "dps00ax.set_clim(vmin=0, vmax=max_prob)\n",
    "fig.colorbar(dps00ax, ax=ax1)\n",
    "\n",
    "# 2020 probs\n",
    "dps20ax = ax2.imshow(dps20)\n",
    "ax2.set_title(\"Dispersal Probability 2020\")\n",
    "dps20ax.set_clim(vmin=0, vmax=max_prob)\n",
    "fig.colorbar(dps20ax, ax=ax2)"
   ]
  },
  {
   "cell_type": "code",
   "execution_count": null,
   "metadata": {},
   "outputs": [],
   "source": [
    "# Plot IFLs over corridor\n",
    "iflPoly00 = gpd.read_file(wdir + '/' + iflPath2000)\n",
    "fig, ax = plt.subplots(1, figsize=(10, 8))\n",
    "show((ds1, 1), cmap='terrain', interpolation='none', ax=ax)\n",
    "# Need descartes for this\n",
    "iflPoly00.plot(ax=ax, facecolor=\"none\", edgecolor='black', lw=0.7)"
   ]
  },
  {
   "cell_type": "markdown",
   "metadata": {},
   "source": [
    "The intact forest landscapes connected by this corridor are mostly protected. What is the probability of dispersal like in those protected areas?"
   ]
  },
  {
   "cell_type": "code",
   "execution_count": null,
   "metadata": {},
   "outputs": [],
   "source": [
    "#  Read in PAs and print.\n",
    "pas = gpd.read_file(wdir + '/' + pasPath)\n",
    "pas\n"
   ]
  },
  {
   "cell_type": "markdown",
   "metadata": {},
   "source": [
    "The fiona library works actually under the hood of geopandas. With fiona we can open vector/feature datasets directly without loading them into a dataframe. This is required for masking rasters."
   ]
  },
  {
   "cell_type": "code",
   "execution_count": null,
   "metadata": {},
   "outputs": [],
   "source": [
    "# Read ifls to geoms and print\n",
    "with fiona.open(wdir + '/' + iflPath2000, \"r\") as shapefile:\n",
    "    geoms = [feature[\"geometry\"] for feature in shapefile]\n",
    "geoms"
   ]
  },
  {
   "cell_type": "code",
   "execution_count": null,
   "metadata": {},
   "outputs": [],
   "source": [
    "# Plot PAs over corridor\n",
    "fig, ax = plt.subplots(1, figsize=(10, 8))\n",
    "show((ds1, 1), cmap='terrain', interpolation='none', ax=ax)\n",
    "# Need descartes for this\n",
    "pas.plot(ax=ax, facecolor=\"none\", edgecolor='black', lw=0.7)"
   ]
  },
  {
   "cell_type": "code",
   "execution_count": null,
   "metadata": {},
   "outputs": [],
   "source": [
    "# Crop year 2000 dispersal probability surface to PAs\n",
    "dps00inPA, dps00inPATransform = mask(dataset=ds1, shapes=geoms, crop=True)\n",
    "print('year 2000 mean dp in PA is ' + str(np.mean(dps00inPA[dps00inPA > 0])))\n",
    "# Crop year 2020 dispersal probability surface to PAs\n",
    "dps20inPA, dps20inPATransform = mask(dataset=ds2, shapes=geoms, crop=True)\n",
    "print('year 2020 mean dp in PA is ' + str(np.mean(dps20inPA[dps20inPA > 0])))"
   ]
  },
  {
   "cell_type": "code",
   "execution_count": null,
   "metadata": {},
   "outputs": [],
   "source": [
    "# Invert mask on year 2000 dispersal probability surface to grab values outside PAs\n",
    "dps00notinPA, dps00notinPATransform = mask(dataset=ds1, shapes=geoms, invert=True, crop=False)\n",
    "print('year 2000 mean dp outside PA is ' + str(np.mean(dps00notinPA[dps00notinPA > 0])))\n",
    "# Invert mask on year 2020 dispersal probability surface to grab values outside PAs\n",
    "dps20notinPA, dps20notinPATransform = mask(dataset=ds2, shapes=geoms, invert=True, crop=False)\n",
    "print('year 2020 mean dp outside PA is ' + str(np.mean(dps20notinPA[dps20notinPA > 0])))\n",
    "# Need to manually close file objects\n",
    "ds1.close()\n",
    "ds2.close()"
   ]
  },
  {
   "cell_type": "code",
   "execution_count": null,
   "metadata": {},
   "outputs": [],
   "source": [
    "# Percent decrease inside PA\n",
    "(0.7139251-0.688464)/0.7139251*100"
   ]
  },
  {
   "cell_type": "code",
   "execution_count": null,
   "metadata": {},
   "outputs": [],
   "source": [
    "# Percent decrease outside PA\n",
    "(0.7521234-0.7171582)/0.7521234*100\n",
    "print(dpsPath2000.replace('.tif','_masked.tif'))"
   ]
  },
  {
   "cell_type": "markdown",
   "metadata": {},
   "source": [
    "What if we want to save a masked array?"
   ]
  },
  {
   "cell_type": "code",
   "execution_count": null,
   "metadata": {},
   "outputs": [],
   "source": [
    "# Use existing fiona geometry objects\n",
    "# Use with context manager (automatically closes file objects)\n",
    "# Use existing tiff as template\n",
    "with rasterio.open(wdir + '/' + dpsPath2000) as src:\n",
    "    out_meta = src.meta\n",
    "    out_image, out_transform = rasterio.mask.mask(src, shapes=geoms, crop=True)\n",
    "\n",
    "    profile = src.profile\n",
    "    profile[\"height\"] = out_image.shape[1]\n",
    "    profile[\"width\"] = out_image.shape[2]\n",
    "    profile[\"transform\"] = out_transform\n",
    "\n",
    "    out_meta.update({\"driver\": \"GTiff\",\n",
    "                 \"height\": out_image.shape[1],\n",
    "                 \"width\": out_image.shape[2],\n",
    "                 \"transform\": out_transform})\n",
    "\n",
    "with rasterio.open(wdir + '/' + dpsPath2000.replace('.tif','_masked.tif'), \"w\", **out_meta) as dest:\n",
    "    dest.write(out_image)\n",
    "\n",
    "# Pathlib is a useful module. Here use to check if file was created.\n",
    "from pathlib import Path\n",
    "Path(wdir + '/' + dpsPath2000.replace('.tif','_masked.tif')).exists()"
   ]
  },
  {
   "cell_type": "code",
   "execution_count": null,
   "metadata": {},
   "outputs": [],
   "source": [
    "# What if we have categorical data?\n",
    "# Convert probability values to ranks\n",
    "bins = [0, 0.25, 0.5, 0.75, 1]\n",
    "probRanks00 = np.digitize(dps00, bins)\n",
    "# Calculate rank counts\n",
    "unique, counts = np.unique(probRanks00, return_counts=True)\n",
    "print(np.asarray((unique, counts)).T)\n"
   ]
  },
  {
   "cell_type": "code",
   "execution_count": null,
   "metadata": {},
   "outputs": [],
   "source": [
    "# Lowest rank is inflated due to fill values\n",
    "probRanks00 = np.digitize(dps00[dps00 > 0], bins)\n",
    "# Calculate rank counts\n",
    "unique, counts = np.unique(probRanks00, return_counts=True)\n",
    "print(np.asarray((unique, counts)).T)"
   ]
  },
  {
   "cell_type": "markdown",
   "metadata": {},
   "source": [
    "Visualize with Leaflet"
   ]
  },
  {
   "cell_type": "code",
   "execution_count": null,
   "metadata": {},
   "outputs": [],
   "source": [
    "from ipyleaflet import Map, basemaps\n",
    "Map(center = (60, -2.2), zoom = 2, min_zoom = 1, max_zoom = 20, \n",
    "    basemap=basemaps.Stamen.Terrain)\n"
   ]
  },
  {
   "cell_type": "code",
   "execution_count": null,
   "metadata": {},
   "outputs": [],
   "source": [
    "# Need lat lon for basemap\n",
    "pas_repro  = pas.to_crs({'init': 'epsg:4326'})\n",
    "# Returns a tuple containing minx, miny, maxx, maxy\n",
    "bbox = pas_repro.total_bounds\n",
    "print(bbox)\n",
    "\n",
    "# Use bounding box coords to center map\n",
    "#map = Map(center = (53.48, -2.24), basemap=basemaps.Esri.WorldImagery)\n",
    "map = Map(center = (np.mean([bbox[1],bbox[3]]),np.mean([bbox[0],bbox[2]])), basemap=basemaps.Esri.WorldImagery)\n",
    "map"
   ]
  },
  {
   "cell_type": "code",
   "execution_count": null,
   "metadata": {},
   "outputs": [],
   "source": []
  }
 ],
 "metadata": {
  "kernelspec": {
   "display_name": "Python 3 (ipykernel)",
   "language": "python",
   "name": "python3"
  },
  "language_info": {
   "codemirror_mode": {
    "name": "ipython",
    "version": 3
   },
   "file_extension": ".py",
   "mimetype": "text/x-python",
   "name": "python",
   "nbconvert_exporter": "python",
   "pygments_lexer": "ipython3",
   "version": "3.9.7"
  }
 },
 "nbformat": 4,
 "nbformat_minor": 4
}
